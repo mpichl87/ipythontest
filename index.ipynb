{
 "metadata": {
  "language": "Julia",
  "name": "",
  "signature": "sha256:97e5d953adad4d967b2f0bc57973b2e4c1c9b3c390e419ad46ae7a4a178f2651"
 },
 "nbformat": 3,
 "nbformat_minor": 0,
 "worksheets": [
  {
   "cells": [
    {
     "cell_type": "markdown",
     "metadata": {},
     "source": [
      "[<img src=\"ipynblogo.png\" align = 'left'>](http://ipython.org/)"
     ]
    },
    {
     "cell_type": "heading",
     "level": 1,
     "metadata": {},
     "source": [
      "IPython Examples"
     ]
    },
    {
     "cell_type": "markdown",
     "metadata": {},
     "source": [
      "The following examples only work with the [python](https://www.python.org/) backend. \n",
      "\n",
      "    ipython notebook --pylab inline"
     ]
    },
    {
     "cell_type": "markdown",
     "metadata": {},
     "source": [
      "\n",
      "- [test](test.ipynb): testing Python backend\n",
      "\n",
      "\n",
      "- [testSKRF](testSKRF.ipynb): testing the [scikit-rf](http://scikit-rf-web.readthedocs.org/en/latest/) package"
     ]
    },
    {
     "cell_type": "markdown",
     "metadata": {},
     "source": [
      "\n",
      "---\n"
     ]
    },
    {
     "cell_type": "markdown",
     "metadata": {},
     "source": [
      "[<img src=\"ijuablogo.png\" align = 'left' width = \"20%\">](https://github.com/JuliaLang/IJulia.jl)"
     ]
    },
    {
     "cell_type": "heading",
     "level": 1,
     "metadata": {},
     "source": [
      "IJulia Examples"
     ]
    },
    {
     "cell_type": "markdown",
     "metadata": {},
     "source": [
      "The following examples only work with the [julia](http://julialang.org/) backend.\n",
      "\n",
      "    ipython notebook --profile julia"
     ]
    },
    {
     "cell_type": "markdown",
     "metadata": {},
     "source": [
      "- [ijuliaTest](ijuliaTest.ipynb) simple tests for [nbviewer](http://nbviewer.ipython.org/github/pichlermi/ipythontest/tree/master/index.ipynb?flush_cache=true/)\n",
      "\n",
      "\n",
      "- [testTouchstone](testTouchstone.ipynb) testing [Touchstone.jl](Touchstone.jl) witch implements the [Touchstone](touchstone_spec11.pdf) fileformat. \n",
      "\n"
     ]
    },
    {
     "cell_type": "code",
     "collapsed": false,
     "input": [],
     "language": "python",
     "metadata": {},
     "outputs": []
    }
   ],
   "metadata": {}
  }
 ]
}