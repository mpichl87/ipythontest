{
 "metadata": {
  "language": "Julia",
  "name": "",
  "signature": "sha256:a0fefee5a08f610a87e647802b91b099eacfe262f4b7a7000364ba12bbae6b0d"
 },
 "nbformat": 3,
 "nbformat_minor": 0,
 "worksheets": [
  {
   "cells": [
    {
     "cell_type": "markdown",
     "metadata": {},
     "source": [
      "<img src=\"ipynblogo.png\" align = 'left' width = \"30%\">"
     ]
    },
    {
     "cell_type": "heading",
     "level": 1,
     "metadata": {},
     "source": [
      "IJulia Examples"
     ]
    },
    {
     "cell_type": "markdown",
     "metadata": {},
     "source": [
      "The following examples only work with the julia backend."
     ]
    },
    {
     "cell_type": "markdown",
     "metadata": {},
     "source": [
      "- [ijuliaTest](ijuliaTest.ipynb) simple tests for [nbviewer](http://nbviewer.ipython.org/github/pichlermi/ipythontest/)\n",
      "\n",
      "\n",
      "- [testTouchstone](testTouchstone.ipynb) testing [Touchstone.jl](Touchstone.jl) witch implements the [Touchstone](touchstone_spec11.pdf) fileformat. "
     ]
    },
    {
     "cell_type": "code",
     "collapsed": false,
     "input": [],
     "language": "python",
     "metadata": {},
     "outputs": []
    }
   ],
   "metadata": {}
  }
 ]
}