{
 "metadata": {
  "language": "Julia",
  "name": "",
  "signature": "sha256:c6d6c6e1d2643e57d3cdff10b3eb8b4c9117831f820ff0d83173291905c6de1c"
 },
 "nbformat": 3,
 "nbformat_minor": 0,
 "worksheets": [
  {
   "cells": [
    {
     "cell_type": "markdown",
     "metadata": {},
     "source": [
      "[<img src=\"ipynblogo.png\" align = 'left'>](http://ipython.org/)"
     ]
    },
    {
     "cell_type": "heading",
     "level": 1,
     "metadata": {},
     "source": [
      "IPython Examples"
     ]
    },
    {
     "cell_type": "markdown",
     "metadata": {},
     "source": [
      "The following examples only work with the [python](https://www.python.org/) backend. \n",
      "\n",
      "    ipython notebook --pylab inline"
     ]
    },
    {
     "cell_type": "markdown",
     "metadata": {},
     "source": [
      "\n",
      "- [test](test.ipynb): Testing Python backend.\n",
      "\n",
      "\n",
      "- [testSKRF](testSKRF.ipynb): Testing the [scikit-rf](http://scikit-rf-web.readthedocs.org/en/latest/) package."
     ]
    },
    {
     "cell_type": "markdown",
     "metadata": {},
     "source": [
      "\n",
      "---\n"
     ]
    },
    {
     "cell_type": "markdown",
     "metadata": {},
     "source": [
      "[<img src=\"ijuablogo.png\" align = 'left' width = \"20%\">](https://github.com/JuliaLang/IJulia.jl)"
     ]
    },
    {
     "cell_type": "heading",
     "level": 1,
     "metadata": {},
     "source": [
      "IJulia Examples"
     ]
    },
    {
     "cell_type": "markdown",
     "metadata": {},
     "source": [
      "The following examples only work with the [julia](http://julialang.org/) backend.\n",
      "\n",
      "    ipython notebook --profile julia"
     ]
    },
    {
     "cell_type": "markdown",
     "metadata": {},
     "source": [
      "- [ijuliaTest](ijuliaTest.ipynb): Simple tests for [nbviewer](http://nbviewer.ipython.org/github/pichlermi/ipythontest/tree/master/index.ipynb?flush_cache=true/).\n",
      "\n",
      "\n",
      "- [testTouchstone](testTouchstone.ipynb): Testing [Touchstone.jl](Touchstone.jl) witch implements the [Touchstone](touchstone_spec11.pdf) fileformat. \n",
      "\n",
      "\n",
      "- [testPyCall](testPyCall.ipynb): Testing the [PyCall](https://github.com/stevengj/PyCall.jl) Package.\n",
      "\n",
      "\n",
      "- [testSciKitIJulia](testSciKitIJulia.ipynb): [Examples](http://nbviewer.ipython.org/github/scikit-rf/examples/blob/master/index.ipynb) with [scikit-rf](http://scikit-rf-web.readthedocs.org/en/latest/).\n",
      "\n"
     ]
    }
   ],
   "metadata": {}
  }
 ]
}