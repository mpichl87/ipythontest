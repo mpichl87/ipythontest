{
 "metadata": {
  "language": "Julia",
  "name": "",
  "signature": "sha256:48d2908e65ef9765f29f8c8ab6e84d101d4637c90d15063947356a5cd5aec427"
 },
 "nbformat": 3,
 "nbformat_minor": 0,
 "worksheets": [
  {
   "cells": [
    {
     "cell_type": "code",
     "collapsed": false,
     "input": [
      "filename = \"4p7_Code_00.S2P\""
     ],
     "language": "python",
     "metadata": {},
     "outputs": [
      {
       "metadata": {},
       "output_type": "pyout",
       "prompt_number": 2,
       "text": [
        "\"4p7_Code_00.S2P\""
       ]
      }
     ],
     "prompt_number": 2
    },
    {
     "cell_type": "code",
     "collapsed": false,
     "input": [
      "reload( \"Touchstone\" )\n",
      "import Touchstone\n",
      "\n",
      "open( filename ) do f\n",
      "    raw = readlines( f )\n",
      "    asciistr = map( line -> ascii( line ), raw )\n",
      "    comments   = map( line -> replace( chomp( line[ 2:end ] ), \"\\t\", \" \" ), filter( line ->  beginswith( line, \"!\" ), asciistr ) )\n",
      "    optionline = split( chomp( filter( line ->  beginswith( line, \"#\" ), asciistr )[ 1 ][ 3:end ] ) )\n",
      "    datalines  = filter( line -> !beginswith( line, [ '#', '!' ] ), asciistr )\n",
      "    options = Touchstone.Options( filter( opt -> opt != \"R\", optionline )... )\n",
      "    nw = Touchstone.Network( comments, options )\n",
      "    data = map( line -> float( split( chomp( line ) ) ), datalines )\n",
      "    frequs = map( line -> line[ 1 ], data )\n",
      "    params_raw = map( line -> line[ 2:end ], data )\n",
      "    params_amps = map( line -> [ line[ 1 ], line[ 3 ], line[ 5 ], line[ 7 ] ], params_raw )\n",
      "    params_angle = map( line -> [ line[ 2 ], line[ 4 ], line[ 6 ], line[ 8 ] ], params_raw )\n",
      "    s2pParams = [ \"11\", \"21\", \"12\", \"22\" ]\n",
      "    for line in params_raw\n",
      "        for name in s2pParams\n",
      "            \n",
      "        end\n",
      "    end\n",
      "    options\n",
      "end"
     ],
     "language": "python",
     "metadata": {},
     "outputs": [
      {
       "output_type": "stream",
       "stream": "stderr",
       "text": [
        "Warning: replacing module Touchstone\n"
       ]
      },
      {
       "metadata": {},
       "output_type": "pyout",
       "prompt_number": 22,
       "text": [
        "Options(\"Hz\",\"S\",\"dB\",\"50\")"
       ]
      }
     ],
     "prompt_number": 22
    },
    {
     "cell_type": "code",
     "collapsed": false,
     "input": [],
     "language": "python",
     "metadata": {},
     "outputs": [
      {
       "output_type": "stream",
       "stream": "stderr",
       "text": [
        "Warning: replacing module Touchstone\n"
       ]
      }
     ],
     "prompt_number": 8
    },
    {
     "cell_type": "code",
     "collapsed": false,
     "input": [],
     "language": "python",
     "metadata": {},
     "outputs": []
    }
   ],
   "metadata": {}
  }
 ]
}